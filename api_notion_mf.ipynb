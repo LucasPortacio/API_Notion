{
 "cells": [
  {
   "cell_type": "code",
   "execution_count": 325,
   "metadata": {},
   "outputs": [],
   "source": [
    "import requests\n",
    "import pandas as pd \n",
    "from datetime import datetime"
   ]
  },
  {
   "cell_type": "code",
   "execution_count": 326,
   "metadata": {},
   "outputs": [],
   "source": [
    "# Conexão com API\n",
    "\n",
    "NOTION_API_KEY = 'secret_GHlV2yGtPWvW6TYpDCHAebaP0QmUbLxc7kEN9e6iVwj'\n",
    "headers = {\n",
    "    'Authorization': f'Bearer {NOTION_API_KEY}',\n",
    "    'Content-Type': 'application/json',\n",
    "    'Notion-Version': '2022-06-28',\n",
    "}"
   ]
  },
  {
   "cell_type": "code",
   "execution_count": 327,
   "metadata": {},
   "outputs": [],
   "source": [
    "# Substitua 'ID_DO_BANCO_DE_DADOS' pelo ID do banco de dados que você deseja consultar\n",
    "database_id = 'e51a95d56d594c16ad7370bb669f21e5'\n",
    "\n",
    "# Faça a solicitação GET para consultar o banco de dados\n",
    "response = requests.post(f'https://api.notion.com/v1/databases/{database_id}/query', headers=headers)"
   ]
  },
  {
   "cell_type": "code",
   "execution_count": 328,
   "metadata": {},
   "outputs": [
    {
     "name": "stdout",
     "output_type": "stream",
     "text": [
      "object                                   id             created_time         last_edited_time  cover  icon  archived                                                                                          url public_url created_by.object                        created_by.id last_edited_by.object                    last_edited_by.id parent.type                   parent.database_id properties.Assign.id properties.Assign.type                                                                                                             properties.Assign.people properties.Criado por.id properties.Criado por.type properties.Criado por.created_by.object  properties.Criado por.created_by.id properties.Status.id properties.Status.type          properties.Status.status.id properties.Status.status.name properties.Status.status.color properties.Criado em.id properties.Criado em.type properties.Criado em.created_time properties.Data Criação.id properties.Data Criação.type  properties.Data Criação.date properties.Semana.id properties.Semana.type                                                                                                                      properties.Semana.multi_select properties.Name.id properties.Name.type                                                                                                                                                                                                                                                                                     properties.Name.title icon.type icon.emoji properties.Data Criação.date.start properties.Data Criação.date.end  properties.Data Criação.date.time_zone cover.type                                                 cover.external.url\n",
      "  page 6146cc75-8380-457c-b497-e5ea24757537 2023-11-09T14:33:00.000Z 2023-11-09T14:33:00.000Z    NaN   NaN     False             https://www.notion.so/Ajuste-Hierarquia-Opera-o-6146cc758380457cb497e5ea24757537       None              user 7623bd3d-a29a-4252-a502-437b65b6ec68                  user 7623bd3d-a29a-4252-a502-437b65b6ec68 database_id e51a95d5-6d59-4c16-ad73-70bb669f21e5               H%3DUb                 people                                                                   [{'object': 'user', 'id': 'dd5c1866-32f3-40a6-bdf2-03bca5010bfd'}]                     HNzw                 created_by                                    user 7623bd3d-a29a-4252-a502-437b65b6ec68                 bDti                 status 576ac079-c88e-4ee0-93df-b0841da00e49                          Done                          green                  tl%5Ef              created_time          2023-11-09T14:33:00.000Z                     u%5Eun                         date                           NaN             %7Bjv%7B           multi_select                                                            [{'id': 'a139f16b-d70b-4730-b756-85cb0229652e', 'name': 'Sob-Demanda', 'color': 'gray'}]              title                title                             [{'type': 'text', 'text': {'content': 'Ajuste Hierarquia Operação', 'link': None}, 'annotations': {'bold': False, 'italic': False, 'strikethrough': False, 'underline': False, 'code': False, 'color': 'default'}, 'plain_text': 'Ajuste Hierarquia Operação', 'href': None}]       NaN        NaN                                NaN                              NaN                                     NaN        NaN                                                                NaN\n",
      "  page 64c316f3-c922-4e65-87b2-d8c30b4278da 2023-11-09T14:33:00.000Z 2023-11-09T14:33:00.000Z    NaN   NaN     False                   https://www.notion.so/Metadados-Manuten-o-64c316f3c9224e6587b2d8c30b4278da       None              user 7623bd3d-a29a-4252-a502-437b65b6ec68                  user 7623bd3d-a29a-4252-a502-437b65b6ec68 database_id e51a95d5-6d59-4c16-ad73-70bb669f21e5               H%3DUb                 people                                                                   [{'object': 'user', 'id': '3ad2e9f5-bad6-40f5-8dd5-471d106fb42e'}]                     HNzw                 created_by                                    user 7623bd3d-a29a-4252-a502-437b65b6ec68                 bDti                 status 8fa32ef8-2dfe-46de-a4e6-96ff33f77657                   In progress                           blue                  tl%5Ef              created_time          2023-11-09T14:33:00.000Z                     u%5Eun                         date                           NaN             %7Bjv%7B           multi_select  [{'id': 'a139f16b-d70b-4730-b756-85cb0229652e', 'name': 'Sob-Demanda', 'color': 'gray'}, {'id': 'h]IM', 'name': 'Quinta-Feira', 'color': 'brown'}]              title                title                                     [{'type': 'text', 'text': {'content': 'Metadados - Manutenção', 'link': None}, 'annotations': {'bold': False, 'italic': False, 'strikethrough': False, 'underline': False, 'code': False, 'color': 'default'}, 'plain_text': 'Metadados - Manutenção', 'href': None}]     emoji       🧟‍♀️      2023-11-09T11:21:00.000-03:00                             None                                     NaN        NaN                                                                NaN\n",
      "  page 98cd6bab-48c4-4a3e-943e-94c654599f7d 2023-11-09T14:33:00.000Z 2023-11-09T14:33:00.000Z    NaN   NaN     False                     https://www.notion.so/Relat-rio-Quartil-98cd6bab48c44a3e943e94c654599f7d       None              user 7623bd3d-a29a-4252-a502-437b65b6ec68                  user 7623bd3d-a29a-4252-a502-437b65b6ec68 database_id e51a95d5-6d59-4c16-ad73-70bb669f21e5               H%3DUb                 people                                                                   [{'object': 'user', 'id': '7623bd3d-a29a-4252-a502-437b65b6ec68'}]                     HNzw                 created_by                                    user 7623bd3d-a29a-4252-a502-437b65b6ec68                 bDti                 status 8fa32ef8-2dfe-46de-a4e6-96ff33f77657                   In progress                           blue                  tl%5Ef              created_time          2023-11-09T14:33:00.000Z                     u%5Eun                         date                           NaN             %7Bjv%7B           multi_select                                                            [{'id': 'a139f16b-d70b-4730-b756-85cb0229652e', 'name': 'Sob-Demanda', 'color': 'gray'}]              title                title                                               [{'type': 'text', 'text': {'content': 'Relatório Quartil', 'link': None}, 'annotations': {'bold': False, 'italic': False, 'strikethrough': False, 'underline': False, 'code': False, 'color': 'default'}, 'plain_text': 'Relatório Quartil', 'href': None}]       NaN        NaN                                NaN                              NaN                                     NaN        NaN                                                                NaN\n",
      "  page a1dcd094-0389-4a76-ae32-a6d1aa7357f5 2023-11-09T14:33:00.000Z 2023-11-09T17:11:00.000Z    NaN   NaN     False  https://www.notion.so/Relat-rio-Tempos-Empresa-Treinamento-a1dcd09403894a76ae32a6d1aa7357f5       None              user 7623bd3d-a29a-4252-a502-437b65b6ec68                  user dd5c1866-32f3-40a6-bdf2-03bca5010bfd database_id e51a95d5-6d59-4c16-ad73-70bb669f21e5               H%3DUb                 people [{'object': 'user', 'id': '7623bd3d-a29a-4252-a502-437b65b6ec68'}, {'object': 'user', 'id': 'dd5c1866-32f3-40a6-bdf2-03bca5010bfd'}]                     HNzw                 created_by                                    user 7623bd3d-a29a-4252-a502-437b65b6ec68                 bDti                 status 8fa32ef8-2dfe-46de-a4e6-96ff33f77657                   In progress                           blue                  tl%5Ef              created_time          2023-11-09T14:33:00.000Z                     u%5Eun                         date                           NaN             %7Bjv%7B           multi_select                                                            [{'id': 'a139f16b-d70b-4730-b756-85cb0229652e', 'name': 'Sob-Demanda', 'color': 'gray'}]              title                title [{'type': 'text', 'text': {'content': 'Relatório Tempos - Empresa & Treinamento', 'link': None}, 'annotations': {'bold': False, 'italic': False, 'strikethrough': False, 'underline': False, 'code': False, 'color': 'default'}, 'plain_text': 'Relatório Tempos - Empresa & Treinamento', 'href': None}]       NaN        NaN      2023-11-09T14:00:00.000-03:00                             None                                     NaN        NaN                                                                NaN\n",
      "  page 11af4be2-7dd9-4003-b04b-1f5787e3fd8e 2023-11-09T14:33:00.000Z 2023-11-09T14:33:00.000Z    NaN   NaN     False                https://www.notion.so/Acionamentos-DEEP-OLOS-11af4be27dd94003b04b1f5787e3fd8e       None              user 7623bd3d-a29a-4252-a502-437b65b6ec68                  user 7623bd3d-a29a-4252-a502-437b65b6ec68 database_id e51a95d5-6d59-4c16-ad73-70bb669f21e5               H%3DUb                 people                                                                   [{'object': 'user', 'id': 'dd5c1866-32f3-40a6-bdf2-03bca5010bfd'}]                     HNzw                 created_by                                    user 7623bd3d-a29a-4252-a502-437b65b6ec68                 bDti                 status 576ac079-c88e-4ee0-93df-b0841da00e49                          Done                          green                  tl%5Ef              created_time          2023-11-09T14:33:00.000Z                     u%5Eun                         date                           NaN             %7Bjv%7B           multi_select                                                            [{'id': 'a139f16b-d70b-4730-b756-85cb0229652e', 'name': 'Sob-Demanda', 'color': 'gray'}]              title                title                                     [{'type': 'text', 'text': {'content': 'Acionamentos DEEP OLOS', 'link': None}, 'annotations': {'bold': False, 'italic': False, 'strikethrough': False, 'underline': False, 'code': False, 'color': 'default'}, 'plain_text': 'Acionamentos DEEP OLOS', 'href': None}]     emoji          🔥                         2023-11-07                       2023-11-08                                     NaN        NaN                                                                NaN\n",
      "  page 2eeebff5-47ab-41d4-8797-fa7a3ac71630 2023-11-09T14:33:00.000Z 2023-11-09T17:11:00.000Z    NaN   NaN     False https://www.notion.so/Acionamentos-Todos-os-Fornedores-DEEP-2eeebff547ab41d48797fa7a3ac71630       None              user 7623bd3d-a29a-4252-a502-437b65b6ec68                  user dd5c1866-32f3-40a6-bdf2-03bca5010bfd database_id e51a95d5-6d59-4c16-ad73-70bb669f21e5               H%3DUb                 people                                                                   [{'object': 'user', 'id': 'dd5c1866-32f3-40a6-bdf2-03bca5010bfd'}]                     HNzw                 created_by                                    user 7623bd3d-a29a-4252-a502-437b65b6ec68                 bDti                 status 576ac079-c88e-4ee0-93df-b0841da00e49                          Done                          green                  tl%5Ef              created_time          2023-11-09T14:33:00.000Z                     u%5Eun                         date                           NaN             %7Bjv%7B           multi_select                                                            [{'id': 'a139f16b-d70b-4730-b756-85cb0229652e', 'name': 'Sob-Demanda', 'color': 'gray'}]              title                title   [{'type': 'text', 'text': {'content': 'Acionamentos Todos os Fornedores - DEEP', 'link': None}, 'annotations': {'bold': False, 'italic': False, 'strikethrough': False, 'underline': False, 'code': False, 'color': 'default'}, 'plain_text': 'Acionamentos Todos os Fornedores - DEEP', 'href': None}]     emoji          🌠      2023-11-08T05:30:00.000-03:00    2023-11-09T15:30:00.000-03:00                                     NaN        NaN                                                                NaN\n",
      "  page 390ffb13-f9f6-4157-be50-66faaea0d6c7 2023-11-09T14:33:00.000Z 2023-11-09T14:33:00.000Z    NaN   NaN     False     https://www.notion.so/Metadados-Padroniza-o-de-Tabula-o-390ffb13f9f64157be5066faaea0d6c7       None              user 7623bd3d-a29a-4252-a502-437b65b6ec68                  user 7623bd3d-a29a-4252-a502-437b65b6ec68 database_id e51a95d5-6d59-4c16-ad73-70bb669f21e5               H%3DUb                 people                                                                   [{'object': 'user', 'id': '3ad2e9f5-bad6-40f5-8dd5-471d106fb42e'}]                     HNzw                 created_by                                    user 7623bd3d-a29a-4252-a502-437b65b6ec68                 bDti                 status 576ac079-c88e-4ee0-93df-b0841da00e49                          Done                          green                  tl%5Ef              created_time          2023-11-09T14:33:00.000Z                     u%5Eun                         date                           NaN             %7Bjv%7B           multi_select [{'id': 'a139f16b-d70b-4730-b756-85cb0229652e', 'name': 'Sob-Demanda', 'color': 'gray'}, {'id': 'IOJ`', 'name': 'Quarta-Feira', 'color': 'yellow'}]              title                title       [{'type': 'text', 'text': {'content': 'Metadados - Padronização de Tabulação', 'link': None}, 'annotations': {'bold': False, 'italic': False, 'strikethrough': False, 'underline': False, 'code': False, 'color': 'default'}, 'plain_text': 'Metadados - Padronização de Tabulação', 'href': None}]     emoji          👻      2023-11-08T10:00:00.000-03:00    2023-11-08T12:30:00.000-03:00                                     NaN        NaN                                                                NaN\n",
      "  page 76f5ec39-219d-494e-b677-5c2d4bf64433 2023-11-09T14:33:00.000Z 2023-11-09T14:33:00.000Z    NaN   NaN     False                                       https://www.notion.so/76f5ec39219d494eb6775c2d4bf64433       None              user 7623bd3d-a29a-4252-a502-437b65b6ec68                  user 7623bd3d-a29a-4252-a502-437b65b6ec68 database_id e51a95d5-6d59-4c16-ad73-70bb669f21e5               H%3DUb                 people                                                                                                                                   []                     HNzw                 created_by                                    user 7623bd3d-a29a-4252-a502-437b65b6ec68                 bDti                 status af8d9886-4e89-413a-864d-021f3bff6c4f                   Not started                        default                  tl%5Ef              created_time          2023-11-09T14:33:00.000Z                     u%5Eun                         date                           NaN             %7Bjv%7B           multi_select                                                            [{'id': 'a139f16b-d70b-4730-b756-85cb0229652e', 'name': 'Sob-Demanda', 'color': 'gray'}]              title                title                                                                                                                                                                                                                                                                                                        []       NaN        NaN                                NaN                              NaN                                     NaN        NaN                                                                NaN\n",
      "  page ab5d7f7e-1dc1-4724-8802-18eff0f33f3a 2023-11-09T14:33:00.000Z 2023-11-09T14:33:00.000Z    NaN   NaN     False                         https://www.notion.so/Pir-mide-Deep-ab5d7f7e1dc14724880218eff0f33f3a       None              user 7623bd3d-a29a-4252-a502-437b65b6ec68                  user 7623bd3d-a29a-4252-a502-437b65b6ec68 database_id e51a95d5-6d59-4c16-ad73-70bb669f21e5               H%3DUb                 people                                                                   [{'object': 'user', 'id': '3ad2e9f5-bad6-40f5-8dd5-471d106fb42e'}]                     HNzw                 created_by                                    user 7623bd3d-a29a-4252-a502-437b65b6ec68                 bDti                 status 8fa32ef8-2dfe-46de-a4e6-96ff33f77657                   In progress                           blue                  tl%5Ef              created_time          2023-11-09T14:33:00.000Z                     u%5Eun                         date                           NaN             %7Bjv%7B           multi_select [{'id': 'a139f16b-d70b-4730-b756-85cb0229652e', 'name': 'Sob-Demanda', 'color': 'gray'}, {'id': 'IOJ`', 'name': 'Quarta-Feira', 'color': 'yellow'}]              title                title                                                   [{'type': 'text', 'text': {'content': 'Pirâmide - Deep', 'link': None}, 'annotations': {'bold': False, 'italic': False, 'strikethrough': False, 'underline': False, 'code': False, 'color': 'default'}, 'plain_text': 'Pirâmide - Deep', 'href': None}]     emoji          🐌      2023-11-08T17:26:00.000-03:00                             None                                     NaN        NaN                                                                NaN\n",
      "  page ac71cd7a-12b1-449b-bfe6-631c16fd8946 2023-11-09T14:33:00.000Z 2023-11-09T14:33:00.000Z    NaN   NaN     False                            https://www.notion.so/Api-Notion-ac71cd7a12b1449bbfe6631c16fd8946       None              user 7623bd3d-a29a-4252-a502-437b65b6ec68                  user 7623bd3d-a29a-4252-a502-437b65b6ec68 database_id e51a95d5-6d59-4c16-ad73-70bb669f21e5               H%3DUb                 people                                                                   [{'object': 'user', 'id': 'dd5c1866-32f3-40a6-bdf2-03bca5010bfd'}]                     HNzw                 created_by                                    user 7623bd3d-a29a-4252-a502-437b65b6ec68                 bDti                 status af8d9886-4e89-413a-864d-021f3bff6c4f                   Not started                        default                  tl%5Ef              created_time          2023-11-09T14:33:00.000Z                     u%5Eun                         date                           NaN             %7Bjv%7B           multi_select                                                            [{'id': 'a139f16b-d70b-4730-b756-85cb0229652e', 'name': 'Sob-Demanda', 'color': 'gray'}]              title                title                                                             [{'type': 'text', 'text': {'content': 'Api Notion', 'link': None}, 'annotations': {'bold': False, 'italic': False, 'strikethrough': False, 'underline': False, 'code': False, 'color': 'default'}, 'plain_text': 'Api Notion', 'href': None}]       NaN        NaN                                NaN                              NaN                                     NaN        NaN                                                                NaN\n",
      "  page c1d7b676-2feb-4887-8b1f-de186ec980d9 2023-11-09T14:33:00.000Z 2023-11-09T14:33:00.000Z    NaN   NaN     False              https://www.notion.so/Ajuste-Tabula-o-Piramide-c1d7b6762feb48878b1fde186ec980d9       None              user 7623bd3d-a29a-4252-a502-437b65b6ec68                  user 7623bd3d-a29a-4252-a502-437b65b6ec68 database_id e51a95d5-6d59-4c16-ad73-70bb669f21e5               H%3DUb                 people                                                                   [{'object': 'user', 'id': 'dd5c1866-32f3-40a6-bdf2-03bca5010bfd'}]                     HNzw                 created_by                                    user 7623bd3d-a29a-4252-a502-437b65b6ec68                 bDti                 status 576ac079-c88e-4ee0-93df-b0841da00e49                          Done                          green                  tl%5Ef              created_time          2023-11-09T14:33:00.000Z                     u%5Eun                         date                           NaN             %7Bjv%7B           multi_select                                                            [{'id': 'a139f16b-d70b-4730-b756-85cb0229652e', 'name': 'Sob-Demanda', 'color': 'gray'}]              title                title                               [{'type': 'text', 'text': {'content': 'Ajuste Tabulação Piramide', 'link': None}, 'annotations': {'bold': False, 'italic': False, 'strikethrough': False, 'underline': False, 'code': False, 'color': 'default'}, 'plain_text': 'Ajuste Tabulação Piramide', 'href': None}]       NaN        NaN                                NaN                              NaN                                     NaN        NaN                                                                NaN\n",
      "  page c2582ab6-e8f6-4d9e-a037-22102c37cb7e 2023-11-09T14:33:00.000Z 2023-11-09T14:33:00.000Z    NaN   NaN     False        https://www.notion.so/Reprocessamento-Pir-mide-Alega-c2582ab6e8f64d9ea03722102c37cb7e       None              user 7623bd3d-a29a-4252-a502-437b65b6ec68                  user 7623bd3d-a29a-4252-a502-437b65b6ec68 database_id e51a95d5-6d59-4c16-ad73-70bb669f21e5               H%3DUb                 people                                                                   [{'object': 'user', 'id': '3ad2e9f5-bad6-40f5-8dd5-471d106fb42e'}]                     HNzw                 created_by                                    user 7623bd3d-a29a-4252-a502-437b65b6ec68                 bDti                 status 576ac079-c88e-4ee0-93df-b0841da00e49                          Done                          green                  tl%5Ef              created_time          2023-11-09T14:33:00.000Z                     u%5Eun                         date                           NaN             %7Bjv%7B           multi_select [{'id': 'IOJ`', 'name': 'Quarta-Feira', 'color': 'yellow'}, {'id': 'a139f16b-d70b-4730-b756-85cb0229652e', 'name': 'Sob-Demanda', 'color': 'gray'}]              title                title                 [{'type': 'text', 'text': {'content': 'Reprocessamento Pirâmide - Alega', 'link': None}, 'annotations': {'bold': False, 'italic': False, 'strikethrough': False, 'underline': False, 'code': False, 'color': 'default'}, 'plain_text': 'Reprocessamento Pirâmide - Alega', 'href': None}]     emoji          🍎      2023-11-08T15:09:00.000-03:00    2023-11-08T17:26:00.000-03:00                                     NaN        NaN                                                                NaN\n",
      "  page 48c6ee6d-aeeb-48fd-8a5c-99738386560f 2023-11-09T14:33:00.000Z 2023-11-09T14:33:00.000Z    NaN   NaN     False             https://www.notion.so/Ajuste-Acordos-Operadores-48c6ee6daeeb48fd8a5c99738386560f       None              user 7623bd3d-a29a-4252-a502-437b65b6ec68                  user 7623bd3d-a29a-4252-a502-437b65b6ec68 database_id e51a95d5-6d59-4c16-ad73-70bb669f21e5               H%3DUb                 people                                                                   [{'object': 'user', 'id': 'dd5c1866-32f3-40a6-bdf2-03bca5010bfd'}]                     HNzw                 created_by                                    user 7623bd3d-a29a-4252-a502-437b65b6ec68                 bDti                 status 576ac079-c88e-4ee0-93df-b0841da00e49                          Done                          green                  tl%5Ef              created_time          2023-11-09T14:33:00.000Z                     u%5Eun                         date                           NaN             %7Bjv%7B           multi_select                                                            [{'id': 'a139f16b-d70b-4730-b756-85cb0229652e', 'name': 'Sob-Demanda', 'color': 'gray'}]              title                title                               [{'type': 'text', 'text': {'content': 'Ajuste Acordos Operadores', 'link': None}, 'annotations': {'bold': False, 'italic': False, 'strikethrough': False, 'underline': False, 'code': False, 'color': 'default'}, 'plain_text': 'Ajuste Acordos Operadores', 'href': None}]     emoji          😷      2023-11-07T12:20:00.000-03:00    2023-11-08T18:30:00.000-03:00                                     NaN        NaN                                                                NaN\n",
      "  page aede8cd4-f796-498f-a1dc-0fe57b68364b 2023-11-09T14:33:00.000Z 2023-11-09T14:33:00.000Z    NaN   NaN     False     https://www.notion.so/Metadados-Padroniza-o-de-tabula-o-aede8cd4f796498fa1dc0fe57b68364b       None              user 7623bd3d-a29a-4252-a502-437b65b6ec68                  user 7623bd3d-a29a-4252-a502-437b65b6ec68 database_id e51a95d5-6d59-4c16-ad73-70bb669f21e5               H%3DUb                 people                                                                   [{'object': 'user', 'id': '3ad2e9f5-bad6-40f5-8dd5-471d106fb42e'}]                     HNzw                 created_by                                    user 7623bd3d-a29a-4252-a502-437b65b6ec68                 bDti                 status 8fa32ef8-2dfe-46de-a4e6-96ff33f77657                   In progress                           blue                  tl%5Ef              created_time          2023-11-09T14:33:00.000Z                     u%5Eun                         date                           NaN             %7Bjv%7B           multi_select                                                                                         [{'id': 'IOJ`', 'name': 'Quarta-Feira', 'color': 'yellow'}]              title                title       [{'type': 'text', 'text': {'content': 'Metadados - Padronização de tabulação', 'link': None}, 'annotations': {'bold': False, 'italic': False, 'strikethrough': False, 'underline': False, 'code': False, 'color': 'default'}, 'plain_text': 'Metadados - Padronização de tabulação', 'href': None}]       NaN        NaN                                NaN                              NaN                                     NaN        NaN                                                                NaN\n",
      "  page d2f687fa-b489-4ec3-b6bf-fd7ce2aa0a40 2023-11-09T14:33:00.000Z 2023-11-09T14:33:00.000Z    NaN   NaN     False                           https://www.notion.so/Reports-TIM-d2f687fab4894ec3b6bffd7ce2aa0a40       None              user 7623bd3d-a29a-4252-a502-437b65b6ec68                  user 7623bd3d-a29a-4252-a502-437b65b6ec68 database_id e51a95d5-6d59-4c16-ad73-70bb669f21e5               H%3DUb                 people [{'object': 'user', 'id': 'dd5c1866-32f3-40a6-bdf2-03bca5010bfd'}, {'object': 'user', 'id': '3ad2e9f5-bad6-40f5-8dd5-471d106fb42e'}]                     HNzw                 created_by                                    user 7623bd3d-a29a-4252-a502-437b65b6ec68                 bDti                 status 576ac079-c88e-4ee0-93df-b0841da00e49                          Done                          green                  tl%5Ef              created_time          2023-11-09T14:33:00.000Z                     u%5Eun                         date                           NaN             %7Bjv%7B           multi_select                                                            [{'id': 'a139f16b-d70b-4730-b756-85cb0229652e', 'name': 'Sob-Demanda', 'color': 'gray'}]              title                title                                                           [{'type': 'text', 'text': {'content': 'Reports TIM', 'link': None}, 'annotations': {'bold': False, 'italic': False, 'strikethrough': False, 'underline': False, 'code': False, 'color': 'default'}, 'plain_text': 'Reports TIM', 'href': None}]     emoji       😶‍🌫️                                NaN                              NaN                                     NaN        NaN                                                                NaN\n",
      "  page e434c5b0-03aa-46e5-b65d-4f13fce3c91b 2023-11-09T14:33:00.000Z 2023-11-09T14:33:00.000Z    NaN   NaN     False                       https://www.notion.so/Reprocessar-HXH-e434c5b003aa46e5b65d4f13fce3c91b       None              user 7623bd3d-a29a-4252-a502-437b65b6ec68                  user 7623bd3d-a29a-4252-a502-437b65b6ec68 database_id e51a95d5-6d59-4c16-ad73-70bb669f21e5               H%3DUb                 people                                                                   [{'object': 'user', 'id': '3ad2e9f5-bad6-40f5-8dd5-471d106fb42e'}]                     HNzw                 created_by                                    user 7623bd3d-a29a-4252-a502-437b65b6ec68                 bDti                 status 576ac079-c88e-4ee0-93df-b0841da00e49                          Done                          green                  tl%5Ef              created_time          2023-11-09T14:33:00.000Z                     u%5Eun                         date                           NaN             %7Bjv%7B           multi_select                                                            [{'id': 'a139f16b-d70b-4730-b756-85cb0229652e', 'name': 'Sob-Demanda', 'color': 'gray'}]              title                title                                                   [{'type': 'text', 'text': {'content': 'Reprocessar HXH', 'link': None}, 'annotations': {'bold': False, 'italic': False, 'strikethrough': False, 'underline': False, 'code': False, 'color': 'default'}, 'plain_text': 'Reprocessar HXH', 'href': None}]     emoji          🪔                                NaN                              NaN                                     NaN   external https://www.notion.so/images/page-cover/met_silk_kashan_carpet.jpg\n"
     ]
    }
   ],
   "source": [
    "# Analise a resposta\n",
    "if response.status_code == 200:\n",
    "    response_data = response.json()\n",
    "    \n",
    "    if 'results' in response_data:\n",
    "        # Aplicar a normalização aos dados\n",
    "        df = pd.json_normalize(response_data, 'results')\n",
    "        \n",
    "    else:\n",
    "        print(\"A resposta não contém dados de resultado.\")\n",
    "else:\n",
    "    print(f'Erro ao consultar o banco de dados. Código de status: {response.status_code}')\n",
    "\n",
    "df.to_excel('C:/Users/int.lucas/Downloads/original.xlsx',index=False)"
   ]
  },
  {
   "cell_type": "code",
   "execution_count": 329,
   "metadata": {},
   "outputs": [],
   "source": [
    "\n",
    "# Função para tratar campos específicos\n",
    "def extrair_valores(valores):\n",
    "    if isinstance(valores, list):\n",
    "        # Verifique se a lista não está vazia\n",
    "        if valores:\n",
    "            return valores[0].get('text', {}).get('content')\n",
    "    return None"
   ]
  },
  {
   "cell_type": "code",
   "execution_count": 330,
   "metadata": {},
   "outputs": [],
   "source": [
    "# Aplique a função à coluna 'properties.Nome.title'\n",
    "coluna_alvo = 'properties.Name.title'\n",
    "\n",
    "if coluna_alvo in df.columns:\n",
    "    df[coluna_alvo] = df[coluna_alvo].apply(extrair_valores)\n",
    "else:\n",
    "    print(f\"A coluna '{coluna_alvo}' não existe no DataFrame.\")"
   ]
  },
  {
   "cell_type": "code",
   "execution_count": 331,
   "metadata": {},
   "outputs": [
    {
     "name": "stdout",
     "output_type": "stream",
     "text": [
      "A coluna 'properties.Texto.rich_text' não existe no DataFrame.\n"
     ]
    }
   ],
   "source": [
    "coluna_alvo = 'properties.Texto.rich_text'\n",
    "\n",
    "if coluna_alvo in df.columns:\n",
    "    df[coluna_alvo] = df[coluna_alvo].apply(extrair_valores)\n",
    "else:\n",
    "    print(f\"A coluna '{coluna_alvo}' não existe no DataFrame.\")"
   ]
  },
  {
   "cell_type": "code",
   "execution_count": 332,
   "metadata": {},
   "outputs": [
    {
     "name": "stdout",
     "output_type": "stream",
     "text": [
      "A coluna 'properties.Tags.multi_select' não existe no DataFrame.\n"
     ]
    }
   ],
   "source": [
    "# Função para extrair o 'id' e 'name' do dicionário\n",
    "def extrair_id_name(valores):\n",
    "    if isinstance(valores, list):\n",
    "        # Verifique se a lista não está vazia\n",
    "        if valores:\n",
    "            id_value = valores[0].get('id')\n",
    "            name_value = valores[0].get('name')\n",
    "            return id_value, name_value\n",
    "    return None, None\n",
    "\n",
    "# Coluna alvo\n",
    "coluna_alvo = 'properties.Tags.multi_select'\n",
    "\n",
    "# Verifique se a coluna existe\n",
    "if coluna_alvo in df.columns:\n",
    "    # Aplique a função à coluna\n",
    "    df[['Tag Id', 'Tag Name']] = df[coluna_alvo].apply(extrair_id_name).apply(pd.Series)\n",
    "else:\n",
    "    print(f\"A coluna '{coluna_alvo}' não existe no DataFrame.\")"
   ]
  },
  {
   "cell_type": "code",
   "execution_count": 333,
   "metadata": {},
   "outputs": [],
   "source": [
    "# Função para formatar uma única data\n",
    "def formatar_data(df):\n",
    "    formato_com_horario = \"%Y-%m-%dT%H:%M:%S.%f%z\"\n",
    "    formato_somente_data = \"%Y-%m-%d\"\n",
    "\n",
    "    if isinstance(df, str):\n",
    "        try:\n",
    "            # Tenta converter com horário\n",
    "            data_formatada = datetime.strptime(df, formato_com_horario)\n",
    "            return data_formatada.strftime(\"%Y-%m-%d %H:%M:%S\")\n",
    "        except ValueError:\n",
    "            try:\n",
    "                # Tenta converter somente a data\n",
    "                data_formatada = datetime.strptime(df, formato_somente_data)\n",
    "                return data_formatada.strftime(\"%Y-%m-%d\")\n",
    "            except ValueError:\n",
    "                return df  # Se não for possível formatar, retorne o valor original\n",
    "    elif pd.isna(df):\n",
    "        return None  # Se for NaN, retorne None\n",
    "    else:\n",
    "        return df  # Se não for uma string, retorne o valor original\n",
    "\n",
    "# Aplicar a função a cada coluna de data\n",
    "colunas_de_data = ['properties.Data Criação.date.start', 'properties.Data Criação.date.end']\n",
    "\n",
    "for coluna in colunas_de_data:\n",
    "    if coluna in df.columns:\n",
    "        df[coluna] = df[coluna].apply(formatar_data)\n",
    "    else:\n",
    "        print(f\"A coluna '{coluna}' não existe no DataFrame.\")\n"
   ]
  },
  {
   "cell_type": "code",
   "execution_count": 334,
   "metadata": {},
   "outputs": [],
   "source": [
    "columns_of_interest = [\n",
    "    'url',\n",
    "    'created_time',\n",
    "    'last_edited_time',\n",
    "    'created_by.id',\n",
    "    'last_edited_by.id',\n",
    "    'parent.database_id',\n",
    "    'Tag Id',\n",
    "    'Tag Name',\n",
    "    'properties.Nome.title',\n",
    "    'properties.Status.status.name',\n",
    "    'properties.Texto.rich_text',\n",
    "    'properties.Data Criação.date.start',\n",
    "    'properties.Data Criação.date.end',\n",
    "    'icon.emoji'\n",
    "]\n",
    "\n",
    "# Verifique e crie as colunas ausentes\n",
    "for coluna in columns_of_interest:\n",
    "    if coluna not in df.columns:\n",
    "        df[coluna] = None\n",
    "\n",
    "# Crie um novo DataFrame com as colunas de interesse\n",
    "df_filtered = df[columns_of_interest]"
   ]
  },
  {
   "cell_type": "code",
   "execution_count": 335,
   "metadata": {},
   "outputs": [],
   "source": [
    "df_filtered.to_excel('C:/Users/int.lucas/Downloads/api_notion.xlsx',index=False)"
   ]
  }
 ],
 "metadata": {
  "kernelspec": {
   "display_name": "venv",
   "language": "python",
   "name": "python3"
  },
  "language_info": {
   "codemirror_mode": {
    "name": "ipython",
    "version": 3
   },
   "file_extension": ".py",
   "mimetype": "text/x-python",
   "name": "python",
   "nbconvert_exporter": "python",
   "pygments_lexer": "ipython3",
   "version": "3.11.5"
  }
 },
 "nbformat": 4,
 "nbformat_minor": 2
}
