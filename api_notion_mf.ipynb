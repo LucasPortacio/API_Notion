{
 "cells": [
  {
   "cell_type": "code",
   "execution_count": 16,
   "metadata": {},
   "outputs": [],
   "source": [
    "import requests\n",
    "import pandas as pd \n",
    "from datetime import datetime"
   ]
  },
  {
   "cell_type": "code",
   "execution_count": 17,
   "metadata": {},
   "outputs": [],
   "source": [
    "# Conexão com API\n",
    "\n",
    "NOTION_API_KEY = 'secret_GHlV2yGtPWvW6TYpDCHAebaP0QmUbLxc7kEN9e6iVwj'\n",
    "headers = {\n",
    "    'Authorization': f'Bearer {NOTION_API_KEY}',\n",
    "    'Content-Type': 'application/json',\n",
    "    'Notion-Version': '2022-06-28',\n",
    "}"
   ]
  },
  {
   "cell_type": "code",
   "execution_count": 18,
   "metadata": {},
   "outputs": [],
   "source": [
    "# Substitua 'ID_DO_BANCO_DE_DADOS' pelo ID do banco de dados que você deseja consultar\n",
    "database_id = 'e51a95d56d594c16ad7370bb669f21e5'\n",
    "\n",
    "# Faça a solicitação GET para consultar o banco de dados\n",
    "response = requests.post(f'https://api.notion.com/v1/databases/{database_id}/query', headers=headers)"
   ]
  },
  {
   "cell_type": "code",
   "execution_count": 19,
   "metadata": {},
   "outputs": [],
   "source": [
    "# Analise a resposta\n",
    "if response.status_code == 200:\n",
    "    response_data = response.json()\n",
    "    \n",
    "    if 'results' in response_data:\n",
    "        # Aplicar a normalização aos dados\n",
    "        df = pd.json_normalize(response_data, 'results')\n",
    "        \n",
    "    else:\n",
    "        print(\"A resposta não contém dados de resultado.\")\n",
    "else:\n",
    "    print(f'Erro ao consultar o banco de dados. Código de status: {response.status_code}')"
   ]
  },
  {
   "cell_type": "code",
   "execution_count": 20,
   "metadata": {},
   "outputs": [],
   "source": [
    "\n",
    "# Função para tratar campos específicos\n",
    "def extrair_valores(valores):\n",
    "    if isinstance(valores, list):\n",
    "        # Verifique se a lista não está vazia\n",
    "        if valores:\n",
    "            return valores[0].get('text', {}).get('content')\n",
    "    return None"
   ]
  },
  {
   "cell_type": "code",
   "execution_count": 21,
   "metadata": {},
   "outputs": [],
   "source": [
    "# Aplique a função à coluna 'properties.Nome.title'\n",
    "coluna_alvo = 'properties.Name.title'\n",
    "\n",
    "if coluna_alvo in df.columns:\n",
    "    df[coluna_alvo] = df[coluna_alvo].apply(extrair_valores)\n",
    "else:\n",
    "    print(f\"A coluna '{coluna_alvo}' não existe no DataFrame.\")"
   ]
  },
  {
   "cell_type": "code",
   "execution_count": 22,
   "metadata": {},
   "outputs": [],
   "source": [
    "coluna_alvo = 'properties.Texto.rich_text'\n",
    "\n",
    "if coluna_alvo in df.columns:\n",
    "    df[coluna_alvo] = df[coluna_alvo].apply(extrair_valores)\n",
    "else:\n",
    "    print(f\"A coluna '{coluna_alvo}' não existe no DataFrame.\")"
   ]
  },
  {
   "cell_type": "code",
   "execution_count": 23,
   "metadata": {},
   "outputs": [
    {
     "name": "stdout",
     "output_type": "stream",
     "text": [
      "A coluna 'properties.Tags.multi_select' não existe no DataFrame.\n"
     ]
    }
   ],
   "source": [
    "# Função para extrair o 'id' e 'name' do dicionário\n",
    "def extrair_id_name(valores):\n",
    "    if isinstance(valores, list):\n",
    "        # Verifique se a lista não está vazia\n",
    "        if valores:\n",
    "            id_value = valores[0].get('id')\n",
    "            name_value = valores[0].get('name')\n",
    "            return id_value, name_value\n",
    "    return None, None\n",
    "\n",
    "# Coluna alvo\n",
    "coluna_alvo = 'properties.Tags.multi_select'\n",
    "\n",
    "# Verifique se a coluna existe\n",
    "if coluna_alvo in df.columns:\n",
    "    # Aplique a função à coluna\n",
    "    df[['Tag Id', 'Tag Name']] = df[coluna_alvo].apply(extrair_id_name).apply(pd.Series)\n",
    "else:\n",
    "    print(f\"A coluna '{coluna_alvo}' não existe no DataFrame.\")"
   ]
  },
  {
   "cell_type": "code",
   "execution_count": 24,
   "metadata": {},
   "outputs": [],
   "source": [
    "# Função para formatar uma única data\n",
    "def formatar_data(df):\n",
    "    formato_com_horario = \"%Y-%m-%dT%H:%M:%S.%f%z\"\n",
    "    formato_somente_data = \"%Y-%m-%d\"\n",
    "\n",
    "    if isinstance(df, str):\n",
    "        try:\n",
    "            # Tenta converter com horário\n",
    "            data_formatada = datetime.strptime(df, formato_com_horario)\n",
    "            return data_formatada.strftime(\"%Y-%m-%d %H:%M:%S\")\n",
    "        except ValueError:\n",
    "            try:\n",
    "                # Tenta converter somente a data\n",
    "                data_formatada = datetime.strptime(df, formato_somente_data)\n",
    "                return data_formatada.strftime(\"%Y-%m-%d\")\n",
    "            except ValueError:\n",
    "                return df  # Se não for possível formatar, retorne o valor original\n",
    "    elif pd.isna(df):\n",
    "        return None  # Se for NaN, retorne None\n",
    "    else:\n",
    "        return df  # Se não for uma string, retorne o valor original\n",
    "\n",
    "# Aplicar a função a cada coluna de data\n",
    "colunas_de_data = ['properties.Data Criação.date.start', 'properties.Data Criação.date.end']\n",
    "\n",
    "for coluna in colunas_de_data:\n",
    "    if coluna in df.columns:\n",
    "        df[coluna] = df[coluna].apply(formatar_data)\n",
    "    else:\n",
    "        print(f\"A coluna '{coluna}' não existe no DataFrame.\")\n"
   ]
  },
  {
   "cell_type": "code",
   "execution_count": 25,
   "metadata": {},
   "outputs": [],
   "source": [
    "columns_of_interest = [\n",
    "    'url',\n",
    "    'created_time',\n",
    "    'last_edited_time',\n",
    "    'created_by.id',\n",
    "    'last_edited_by.id',\n",
    "    'parent.database_id',\n",
    "    'Tag Id',\n",
    "    'Tag Name',\n",
    "    'properties.Nome.title',\n",
    "    'properties.Status.status.name',\n",
    "    'properties.Texto.rich_text',\n",
    "    'properties.Data Criação.date.start',\n",
    "    'properties.Data Criação.date.end',\n",
    "    'icon.emoji'\n",
    "]\n",
    "\n",
    "# Verifique e crie as colunas ausentes\n",
    "for coluna in columns_of_interest:\n",
    "    if coluna not in df.columns:\n",
    "        df[coluna] = None\n",
    "\n",
    "# Crie um novo DataFrame com as colunas de interesse\n",
    "df_filtered = df[columns_of_interest]"
   ]
  },
  {
   "cell_type": "code",
   "execution_count": 26,
   "metadata": {},
   "outputs": [],
   "source": [
    "df_filtered.to_excel('C:/Users/Lucas Gomes/Downloads/api_notion.xlsx',index=False)"
   ]
  }
 ],
 "metadata": {
  "kernelspec": {
   "display_name": "venv",
   "language": "python",
   "name": "python3"
  },
  "language_info": {
   "codemirror_mode": {
    "name": "ipython",
    "version": 3
   },
   "file_extension": ".py",
   "mimetype": "text/x-python",
   "name": "python",
   "nbconvert_exporter": "python",
   "pygments_lexer": "ipython3",
   "version": "3.11.4"
  }
 },
 "nbformat": 4,
 "nbformat_minor": 2
}
