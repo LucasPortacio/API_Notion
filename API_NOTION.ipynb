{
 "cells": [
  {
   "cell_type": "code",
   "execution_count": 222,
   "metadata": {},
   "outputs": [],
   "source": [
    "import requests\n",
    "import pandas as pd \n",
    "from datetime import datetime"
   ]
  },
  {
   "cell_type": "code",
   "execution_count": 223,
   "metadata": {},
   "outputs": [],
   "source": [
    "# Conexão com API\n",
    "\n",
    "NOTION_API_KEY = 'secret_8WGBmr0sryTfGYxDiRnEZnU3lWxZSjCHuPCFBoBw56V'\n",
    "headers = {\n",
    "    'Authorization': f'Bearer {NOTION_API_KEY}',\n",
    "    'Content-Type': 'application/json',\n",
    "    'Notion-Version': '2022-06-28',\n",
    "}"
   ]
  },
  {
   "cell_type": "code",
   "execution_count": 224,
   "metadata": {},
   "outputs": [],
   "source": [
    "# Substitua 'ID_DO_BANCO_DE_DADOS' pelo ID do banco de dados que você deseja consultar\n",
    "database_id = 'b22997410633431cb6fc160aa6a95d40'\n",
    "\n",
    "# Faça a solicitação GET para consultar o banco de dados\n",
    "response = requests.post(f'https://api.notion.com/v1/databases/{database_id}/query', headers=headers)\n"
   ]
  },
  {
   "cell_type": "code",
   "execution_count": 225,
   "metadata": {},
   "outputs": [
    {
     "name": "stdout",
     "output_type": "stream",
     "text": [
      "object                                   id             created_time         last_edited_time cover  icon  archived                                                                          url public_url created_by.object                        created_by.id last_edited_by.object                    last_edited_by.id parent.type                   parent.database_id properties.Data.id properties.Data.type  properties.Data.date properties.Texto.id properties.Texto.type                                                                                                                                                                                                                                                                  properties.Texto.rich_text properties.Status.id properties.Status.type          properties.Status.status.id properties.Status.status.name properties.Status.status.color properties.Tags.id properties.Tags.type                                                           properties.Tags.multi_select properties.Nome.id properties.Nome.type                                                                                                                                                                                                                                               properties.Nome.title icon.type icon.emoji    properties.Data.date.start      properties.Data.date.end  properties.Data.date.time_zone\n",
      "  page 76d05011-309d-4572-9628-efdc4f917156 2023-11-09T02:03:00.000Z 2023-11-09T02:37:00.000Z  None   NaN     False                       https://www.notion.so/76d05011309d45729628efdc4f917156       None              user 3d059d2f-c6ea-4b09-8650-c06cef487344                  user 3d059d2f-c6ea-4b09-8650-c06cef487344 database_id b2299741-0633-431c-b6fc-160aa6a95d40             %3DimU                 date                   NaN              U%5EoN             rich_text                                                                                                                                                                                                                                                                                          []               rIH%3B                 status 80ae9907-752d-46eb-a3bd-30d17ac7ed79                          Done                          green               ujAS         multi_select                                                                                     []              title                title                                                                                                                                                                                                                                                                  []       NaN        NaN                           NaN                           NaN                             NaN\n",
      "  page 4961407e-922c-442a-8400-dc7e98a39ee0 2023-11-09T02:03:00.000Z 2023-11-09T02:03:00.000Z  None   NaN     False https://www.notion.so/Teste-3-api-mesmio-kk-4961407e922c442a8400dc7e98a39ee0       None              user 3d059d2f-c6ea-4b09-8650-c06cef487344                  user 3d059d2f-c6ea-4b09-8650-c06cef487344 database_id b2299741-0633-431c-b6fc-160aa6a95d40             %3DimU                 date                   NaN              U%5EoN             rich_text                                                                                                                                                                                                                                                                                          []               rIH%3B                 status 52cb0ef8-bfde-48e3-bda8-8f09b77e265e                   Not started                        default               ujAS         multi_select [{'id': 'f97a89ac-51a9-434d-8620-f95b916fc5d0', 'name': 'Grupo 3', 'color': 'yellow'}]              title                title [{'type': 'text', 'text': {'content': 'Teste 3 api mesmio kk', 'link': None}, 'annotations': {'bold': False, 'italic': False, 'strikethrough': False, 'underline': False, 'code': False, 'color': 'default'}, 'plain_text': 'Teste 3 api mesmio kk', 'href': None}]       NaN        NaN                           NaN                           NaN                             NaN\n",
      "  page d532e3d2-46f0-4d0d-91e2-0a6f6f5b1526 2023-11-09T02:03:00.000Z 2023-11-09T02:03:00.000Z  None   NaN     False           https://www.notion.so/teste-2-API-d532e3d246f04d0d91e20a6f6f5b1526       None              user 3d059d2f-c6ea-4b09-8650-c06cef487344                  user 3d059d2f-c6ea-4b09-8650-c06cef487344 database_id b2299741-0633-431c-b6fc-160aa6a95d40             %3DimU                 date                   NaN              U%5EoN             rich_text                                                                                                                                                                                                                                                                                          []               rIH%3B                 status 52cb0ef8-bfde-48e3-bda8-8f09b77e265e                   Not started                        default               ujAS         multi_select [{'id': '3bdd7de3-3352-4283-bf2a-b926f81e161c', 'name': 'Grupo 2', 'color': 'orange'}]              title                title                     [{'type': 'text', 'text': {'content': 'teste 2 API', 'link': None}, 'annotations': {'bold': False, 'italic': False, 'strikethrough': False, 'underline': False, 'code': False, 'color': 'default'}, 'plain_text': 'teste 2 API', 'href': None}]       NaN        NaN                           NaN                           NaN                             NaN\n",
      "  page c11e3b03-7399-41e2-afdd-22dc759badb0 2023-11-09T02:00:00.000Z 2023-11-09T02:50:00.000Z  None   NaN     False       https://www.notion.so/TESTE-api-MESMO-c11e3b03739941e2afdd22dc759badb0       None              user 3d059d2f-c6ea-4b09-8650-c06cef487344                  user 3d059d2f-c6ea-4b09-8650-c06cef487344 database_id b2299741-0633-431c-b6fc-160aa6a95d40             %3DimU                 date                   NaN              U%5EoN             rich_text [{'type': 'text', 'text': {'content': 'um teste realizado para teste api', 'link': None}, 'annotations': {'bold': False, 'italic': False, 'strikethrough': False, 'underline': False, 'code': False, 'color': 'default'}, 'plain_text': 'um teste realizado para teste api', 'href': None}]               rIH%3B                 status d6053d97-b76c-4913-8ac7-b52cfb87a544                   In progress                           blue               ujAS         multi_select                                                                                     []              title                title             [{'type': 'text', 'text': {'content': 'TESTE api MESMO', 'link': None}, 'annotations': {'bold': False, 'italic': False, 'strikethrough': False, 'underline': False, 'code': False, 'color': 'default'}, 'plain_text': 'TESTE api MESMO', 'href': None}]     emoji          😁 2023-11-08T08:00:00.000-03:00 2023-11-08T20:00:00.000-03:00                             NaN\n"
     ]
    }
   ],
   "source": [
    "# Analise a resposta\n",
    "if response.status_code == 200:\n",
    "    response_data = response.json()\n",
    "    \n",
    "    if 'results' in response_data:\n",
    "        # Aplicar a normalização aos dados\n",
    "        df = pd.json_normalize(response_data, 'results')\n",
    "        \n",
    "        # Exibir o DataFrame resultante\n",
    "        print(df.to_string(index=False))\n",
    "    else:\n",
    "        print(\"A resposta não contém dados de resultado.\")\n",
    "else:\n",
    "    print(f'Erro ao consultar o banco de dados. Código de status: {response.status_code}')\n",
    "\n",
    "df.to_excel('C:/Users/Lucas Gomes/Downloads/teste1.xlsx',index=False)\n"
   ]
  },
  {
   "cell_type": "code",
   "execution_count": 226,
   "metadata": {},
   "outputs": [],
   "source": [
    "def extrair_valores(valores):\n",
    "    if isinstance(valores, list):\n",
    "        # Verifique se a lista não está vazia\n",
    "        if valores:\n",
    "            return valores[0].get('text', {}).get('content')\n",
    "    return None\n",
    "\n",
    "# Aplique a função à coluna 'properties.Nome.title'\n",
    "df['properties.Nome.title'] = df['properties.Nome.title'].apply(extrair_valores)"
   ]
  },
  {
   "cell_type": "code",
   "execution_count": 227,
   "metadata": {},
   "outputs": [],
   "source": [
    "def extrair_valores(valores):\n",
    "    if isinstance(valores, list):\n",
    "        # Verifique se a lista não está vazia\n",
    "        if valores:\n",
    "            return valores[0].get('text', {}).get('content')\n",
    "    return None\n",
    "\n",
    "# Aplique a função à coluna 'properties.Nome.title'\n",
    "df['properties.Texto.rich_text'] = df['properties.Texto.rich_text'].apply(extrair_valores)"
   ]
  },
  {
   "cell_type": "code",
   "execution_count": 228,
   "metadata": {},
   "outputs": [],
   "source": [
    "# Função para extrair o 'id' e 'name' do dicionário\n",
    "def extrair_id_name(valores):\n",
    "    if isinstance(valores, list):\n",
    "        # Verifique se a lista não está vazia\n",
    "        if valores:\n",
    "            id_value = valores[0].get('id')\n",
    "            name_value = valores[0].get('name')\n",
    "            return id_value, name_value\n",
    "    return None, None\n",
    "\n",
    "# Aplique a função à coluna 'properties.Nome.title'\n",
    "df[['Tag Id', 'Tag Name']] = df['properties.Tags.multi_select'].apply(extrair_id_name).apply(pd.Series)"
   ]
  },
  {
   "cell_type": "code",
   "execution_count": 229,
   "metadata": {},
   "outputs": [],
   "source": [
    "# Função para formatar uma única data\n",
    "def formatar_data(df):\n",
    "    if isinstance(df, str):\n",
    "        data_formatada = datetime.strptime(df, \"%Y-%m-%dT%H:%M:%S.%f%z\")\n",
    "        return data_formatada.strftime(\"%Y-%m-%d %H:%M:%S\")\n",
    "    else:\n",
    "        return None\n",
    "\n",
    "# Aplicar a função a cada coluna de data\n",
    "colunas_de_data = ['created_time', 'last_edited_time', 'properties.Data.date.start', 'properties.Data.date.end']\n",
    "for coluna in colunas_de_data:\n",
    "    df[coluna] = df[coluna].apply(formatar_data)"
   ]
  },
  {
   "cell_type": "code",
   "execution_count": 230,
   "metadata": {},
   "outputs": [],
   "source": [
    "columns_of_interest = [\n",
    "    'url',\n",
    "    'created_time',\n",
    "    'last_edited_time',\n",
    "    'created_by.id',\n",
    "    'last_edited_by.id',\n",
    "    'parent.database_id',\n",
    "    'Tag Id',\n",
    "    'Tag Name',\n",
    "    'properties.Nome.title',\n",
    "    'properties.Status.status.name',\n",
    "    'properties.Texto.rich_text',\n",
    "    'properties.Data.date.start',\n",
    "    'properties.Data.date.end',\n",
    "    'icon.emoji'\n",
    "\n",
    "\n",
    "]\n",
    "\n",
    "# Crie um novo DataFrame com as colunas de interesse\n",
    "df_filtered = df[columns_of_interest]"
   ]
  },
  {
   "cell_type": "code",
   "execution_count": 231,
   "metadata": {},
   "outputs": [],
   "source": [
    "df_filtered.to_excel('C:/Users/Lucas Gomes/Downloads/teste.xlsx',index=False)"
   ]
  }
 ],
 "metadata": {
  "interpreter": {
   "hash": "713144d2bbbede84a1da11c85bed8fc4e42675ca1a53431544ec4ad4bc9f036f"
  },
  "kernelspec": {
   "display_name": "Python 3.11.4 64-bit",
   "language": "python",
   "name": "python3"
  },
  "language_info": {
   "codemirror_mode": {
    "name": "ipython",
    "version": 3
   },
   "file_extension": ".py",
   "mimetype": "text/x-python",
   "name": "python",
   "nbconvert_exporter": "python",
   "pygments_lexer": "ipython3",
   "version": "3.11.4"
  },
  "orig_nbformat": 4
 },
 "nbformat": 4,
 "nbformat_minor": 2
}
